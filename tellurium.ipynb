{
 "metadata": {
  "name": ""
 },
 "nbformat": 3,
 "nbformat_minor": 0,
 "worksheets": [
  {
   "cells": [
    {
     "cell_type": "code",
     "collapsed": false,
     "input": [
      "import libantimony\n",
      "import roadrunner\n",
      "%matplotlib inline\n",
      "\n",
      "def loadAntimonyModel (antStr):\n",
      "    \"\"\"Load an Antimony string:\n",
      "    \n",
      "    r = loadAntModel (antimonyStr)\n",
      "    \"\"\"\n",
      "    err = libantimony.loadAntimonyString (antStr)\n",
      " \n",
      "    if (err < 0):\n",
      "       raise Exception('Antimony: ' + libantimony.getLastError())\n",
      "       \n",
      "    Id = libantimony.getMainModuleName()\n",
      "    sbmlStr = libantimony.getSBMLString(Id)\n",
      "    rr = roadrunner.RoadRunner()\n",
      "    rr.load(sbmlStr)\n",
      "    return rr\n",
      "\n",
      "model = '''\n",
      "  model pathway()\n",
      "    S1 -> S2; k1*S1\n",
      "    S2 -> S3; k2*S2\n",
      "    S3 -> S4; k3*S3\n",
      "\n",
      "    # Initialize values\n",
      "    S1 = 5; S2 = 0; S3 = 0; S4 = 0;\n",
      "    k1 = 0.1;  k2 = 0.55; k3 = 0.76\n",
      "  end\n",
      "'''\n",
      "\n",
      "# Load the model\n",
      "r = loadAntimonyModel(model)\n",
      "\n",
      "s = r.simulate(0, 20, 50)\n",
      "roadrunner.plot(s)\n",
      "\n"
     ],
     "language": "python",
     "metadata": {},
     "outputs": []
    },
    {
     "cell_type": "code",
     "collapsed": false,
     "input": [
      "# Save to file\n",
      "sbml = r.getCurrentSBML()\n",
      "with file('pathway.sbml', 'w') as f: f.write(sbml)"
     ],
     "language": "python",
     "metadata": {},
     "outputs": []
    }
   ],
   "metadata": {}
  }
 ]
}